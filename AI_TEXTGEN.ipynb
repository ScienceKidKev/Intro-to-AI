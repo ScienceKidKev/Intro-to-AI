{
 "cells": [
  {
   "cell_type": "code",
   "execution_count": 17,
   "metadata": {},
   "outputs": [
    {
     "name": "stderr",
     "output_type": "stream",
     "text": [
      "Downloading (…)lve/main/config.json: 100%|██████████| 665/665 [00:00<00:00, 202kB/s]\n",
      "Downloading (…)\"pytorch_model.bin\";: 100%|██████████| 548M/548M [02:51<00:00, 3.20MB/s] \n",
      "Generate config GenerationConfig {\n",
      "  \"bos_token_id\": 50256,\n",
      "  \"eos_token_id\": 50256,\n",
      "  \"transformers_version\": \"4.26.1\"\n",
      "}\n",
      "\n",
      "Downloading (…)neration_config.json: 100%|██████████| 124/124 [00:00<00:00, 20.7kB/s]\n",
      "loading configuration file generation_config.json from cache at aitextgen/models--gpt2/snapshots/e7da7f221d5bf496a48136c0cd264e630fe9fcc8/generation_config.json\n",
      "Generate config GenerationConfig {\n",
      "  \"_from_model_config\": true,\n",
      "  \"bos_token_id\": 50256,\n",
      "  \"eos_token_id\": 50256,\n",
      "  \"transformers_version\": \"4.26.1\"\n",
      "}\n",
      "\n"
     ]
    }
   ],
   "source": [
    "from aitextgen import aitextgen\n",
    "\n",
    "ai=aitextgen()"
   ]
  },
  {
   "cell_type": "code",
   "execution_count": 18,
   "metadata": {},
   "outputs": [
    {
     "name": "stderr",
     "output_type": "stream",
     "text": [
      "Generate config GenerationConfig {\n",
      "  \"bos_token_id\": 50256,\n",
      "  \"eos_token_id\": 50256,\n",
      "  \"transformers_version\": \"4.26.1\"\n",
      "}\n",
      "\n",
      "A decoder-only architecture is being used, but right-padding was detected! For correct generation results, please set `padding_side='left'` when initializing the tokenizer.\n"
     ]
    },
    {
     "name": "stdout",
     "output_type": "stream",
     "text": [
      "\"The goal is to increase demand. We plan to deliver a lot of money for the next 10 years of the current fiscal,\" said Pimlico, who added that the government is looking at the possibility of spending up to 100 billion pesos a year on infrastructure projects and economic development.\n",
      "\n",
      "But he also said that he would like to see all the government departments involved in economic development do all they can to promote the growth of the economy.\n",
      "\n",
      "\"The government will work hard on the infrastructure projects. We will work hard on the economy. We are looking at the possibilities for economic growth in the next 10 years,\" Pimlico said.\n",
      "\n",
      "He said the government is in touch with the World Bank on the need for the government work on the infrastructure projects.\n",
      "\n",
      "\"We will work hard to increase the development of the economy, and we will make sure that we work with the World Bank in the next 10 years.\"\n",
      "\n",
      "But some analysts questioned why the government would not make a commitment to a more direct role in the economy.\n",
      "\n",
      "\"We are talking about a policy of investing in infrastructure, not for the sake of spending money,\" said Sian Kupin, general secretary of the International Association of State Universities. \"At\n",
      "None\n"
     ]
    }
   ],
   "source": [
    "print(ai.generate())"
   ]
  },
  {
   "cell_type": "code",
   "execution_count": 22,
   "metadata": {},
   "outputs": [
    {
     "name": "stderr",
     "output_type": "stream",
     "text": [
      "Generate config GenerationConfig {\n",
      "  \"bos_token_id\": 50256,\n",
      "  \"eos_token_id\": 50256,\n",
      "  \"transformers_version\": \"4.26.1\"\n",
      "}\n",
      "\n"
     ]
    },
    {
     "name": "stdout",
     "output_type": "stream",
     "text": [
      "\u001b[1mI really like unicorns they are so\u001b[0m adorable!\n",
      "\n",
      "Pleasurefully, each of the four women was able to sing! They are great to play with and I'm quite excited to see what they can do in the future!\n",
      "\n",
      "The girls, who are all from the West Indies, all seem to have a great time playing with their friends and enjoy playing with one another!\n",
      "\n",
      "Thanks to everyone who took time and time to visit us!\n",
      "\n",
      "If you like this video\n",
      "==========\n",
      "\u001b[1mI really like unicorns they are so\u001b[0m cool. They are also very cool. You can really find them in the local stores.\n",
      "\n",
      "What's your favorite thing about your job?\n",
      "\n",
      "I love it. I love being on a bus. It's really nice. I have great memories.\n",
      "\n",
      "What's your favorite thing about your job?\n",
      "\n",
      "The best job in the world. I love it. I love being on a bus. It's really nice. I have great memories\n",
      "==========\n",
      "\u001b[1mI really like unicorns they are so\u001b[0m beautiful and you love them because they are so cute!\"\n",
      "\n",
      "This is the first time I met Kosh. I'm not sure if it's because I was too busy with my family, or a coincidence.\n",
      "\n",
      "\"Well, it's only after I go to school that I'm getting the time off to look for girls, so... I'm sure that would be nice if you had some money!\"\n",
      "\n",
      "When I asked about the money I\n",
      "None\n"
     ]
    }
   ],
   "source": [
    "print(ai.generate(prompt='I really like unicorns they are so', n=3))"
   ]
  },
  {
   "cell_type": "code",
   "execution_count": 23,
   "metadata": {},
   "outputs": [
    {
     "name": "stderr",
     "output_type": "stream",
     "text": [
      "Generate config GenerationConfig {\n",
      "  \"bos_token_id\": 50256,\n",
      "  \"eos_token_id\": 50256,\n",
      "  \"transformers_version\": \"4.26.1\"\n",
      "}\n",
      "\n"
     ]
    },
    {
     "name": "stdout",
     "output_type": "stream",
     "text": [
      "\u001b[1mArtificial Intelligence is a technology \u001b[0m that can be used to improve the effectiveness of human services. However, it is not a technology that can be used for human purposes. It is a technology that can not be used for any other purpose. The main purpose of AI is to improve the human experience. It is a technology that can be used for any other purpose.\n",
      "In the last example, the human mind is not the only thing that can be used to improve human services. For example, we can use artificial intelligence to help a patient when they are in a hospital or to assist a doctor when they are on an overdose. We can use it for the purpose of helping the patient make decisions and to understand how to make decisions. It can be used to help us understand the human condition and to help us understand the consequences of our actions. It can make us better able to cope with our own personal problems. We can use it for the purpose of making decisions, to help the patient deal with their own problems, and for the purpose of helping them understand the consequences of their actions. It can help us to understand the human condition and to help us understand the consequences of their actions.\n",
      "We can also use it for the purpose of working with other humans. It can\n",
      "==========\n",
      "\u001b[1mArtificial Intelligence is a technology \u001b[0m that enables us to think for ourselves and to move quickly.  It's the tool we use in order to move faster.  And it's built on top of the best AI capabilities of all time,  that can do incredible things.\n",
      "However, if we were to build AI, it would be incredibly difficult to do with the current technology.  The problem is there is no way to create AI that can do the things we use for our everyday lives.  And that means we need to think about the problem.  It's a long discussion, but I'd like to get into the weeds of it.\n",
      "1. Artificial intelligence is not a bad thing\n",
      "Yes, it's not a bad thing.  It's not what makes us smarter than we are.  It's not what makes us better than we are.  It's not what makes us more intelligent than we are.  It's something we can learn to do with the tools and systems we've already developed (like artificial intelligence).  And it's something that we, humans, can learn from.\n",
      "The problem with intelligent AI is that it can fail.  Many people say it\n",
      "==========\n",
      "\u001b[1mArtificial Intelligence is a technology \u001b[0m that has been around for a long time. It's a tool that will tell you about any object. Imagine you are trying to tell a computer that you have a machine that can pick up and read your emails, and you have to give the computer some instructions. It's not just about the computer, it's about any object that the computer can pick up, which is what the computer does. The computer can pick up anything that it can think of. \n",
      "I'm going to give a brief overview of this technology, which is called Artificial Intelligence. The goal of its advancement is to help the human workforce improve their ability to work with people. But it's not just this technology. It's also the way we work, and how we work. If you're in an industry where you're working with people you can be successful, but if you're in a business where you're working with people you can be inefficient. The technology will help you to learn better and faster, but it will also help you to learn and improve.\n",
      "What is Artificial Intelligence?\n",
      "A Artificial Intelligence is a term that refers to the ability of a machine to learn. It's not just a human being who's the system that's doing that\n",
      "None\n"
     ]
    }
   ],
   "source": [
    "print(ai.generate(prompt='Artificial Intelligence is a technology ', n=3))"
   ]
  }
 ],
 "metadata": {
  "kernelspec": {
   "display_name": "Python 3",
   "language": "python",
   "name": "python3"
  },
  "language_info": {
   "codemirror_mode": {
    "name": "ipython",
    "version": 3
   },
   "file_extension": ".py",
   "mimetype": "text/x-python",
   "name": "python",
   "nbconvert_exporter": "python",
   "pygments_lexer": "ipython3",
   "version": "3.9.6"
  },
  "orig_nbformat": 4,
  "vscode": {
   "interpreter": {
    "hash": "31f2aee4e71d21fbe5cf8b01ff0e069b9275f58929596ceb00d14d90e3e16cd6"
   }
  }
 },
 "nbformat": 4,
 "nbformat_minor": 2
}
